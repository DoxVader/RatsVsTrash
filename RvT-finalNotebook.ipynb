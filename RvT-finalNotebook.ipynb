{
 "cells": [
  {
   "cell_type": "code",
   "execution_count": 1,
   "metadata": {
    "collapsed": true
   },
   "outputs": [],
   "source": [
    "import numpy as np\n",
    "import pandas as pd\n",
    "import statsmodels.api as sm\n",
    "import time\n",
    "import math\n",
    "import scipy\n",
    "import scipy.stats as stats"
   ]
  },
  {
   "cell_type": "markdown",
   "metadata": {
    "collapsed": true
   },
   "source": [
    "### Read in Big Belly trash can data and 311 rodent report data (previously from full 311 dataset using OpenRefine"
   ]
  },
  {
   "cell_type": "code",
   "execution_count": 2,
   "metadata": {
    "collapsed": false
   },
   "outputs": [],
   "source": [
    "srv_url = 'https://raw.githubusercontent.com/DoxVader/RatsVsTrash/master/Data/311_Service_Requests.csv'\n",
    "trash_url = 'https://raw.githubusercontent.com/DoxVader/RatsVsTrash/master/Data/Big_Belly_Alerts_2014.csv'\n",
    "\n",
    "srvdf = pd.read_csv(srv_url)\n",
    "trashdf = pd.read_csv(trash_url)"
   ]
  },
  {
   "cell_type": "markdown",
   "metadata": {},
   "source": [
    "### Create a new column for the actual status (empty, green, or full) and remove the less useful colors"
   ]
  },
  {
   "cell_type": "code",
   "execution_count": 3,
   "metadata": {
    "collapsed": false
   },
   "outputs": [],
   "source": [
    "trashdf['status'] = trashdf['fullness'].map({'GREEN':'empty', 'RED':'full', 'YELLOW':'medium'}).astype(str)\n",
    "trashdf = trashdf.drop('fullness',1)"
   ]
  },
  {
   "cell_type": "markdown",
   "metadata": {},
   "source": [
    "### Convert the dates in the OPEN_DT column to a python datetime"
   ]
  },
  {
   "cell_type": "code",
   "execution_count": 4,
   "metadata": {
    "collapsed": false
   },
   "outputs": [],
   "source": [
    "srvdf['OPEN_DT'] = pd.to_datetime(srvdf['OPEN_DT'])\n"
   ]
  },
  {
   "cell_type": "markdown",
   "metadata": {},
   "source": [
    "### Convert the dates in the trashdf into a python datetime column"
   ]
  },
  {
   "cell_type": "code",
   "execution_count": 5,
   "metadata": {
    "collapsed": false,
    "scrolled": false
   },
   "outputs": [],
   "source": [
    "trashdf['trash_time'] = pd.to_datetime(trashdf.timestamp)"
   ]
  },
  {
   "cell_type": "markdown",
   "metadata": {},
   "source": [
    "### zip together latitude and longitude columns into a tuple"
   ]
  },
  {
   "cell_type": "code",
   "execution_count": 6,
   "metadata": {
    "collapsed": false
   },
   "outputs": [],
   "source": [
    "srvdf['location'] = zip(srvdf.LATITUDE, srvdf.LONGITUDE )"
   ]
  },
  {
   "cell_type": "markdown",
   "metadata": {},
   "source": [
    "### cut srvdf down to the timeframe of the big belly data, removed unnecessary columns and reindexed"
   ]
  },
  {
   "cell_type": "code",
   "execution_count": 7,
   "metadata": {
    "collapsed": false
   },
   "outputs": [],
   "source": [
    "srvdf = srvdf[srvdf.OPEN_DT <= max(trashdf.trash_time)]\n",
    "srvdf = srvdf[srvdf.OPEN_DT >= min(trashdf.trash_time)]\n",
    "srvdf = srvdf.loc[:,['OPEN_DT','LATITUDE','LONGITUDE','LOCATION_STREET_NAME', 'location']]\n",
    "srvdf = srvdf.reset_index(drop= True)"
   ]
  },
  {
   "cell_type": "markdown",
   "metadata": {},
   "source": [
    "### zip location data together for trashdf"
   ]
  },
  {
   "cell_type": "code",
   "execution_count": 8,
   "metadata": {
    "collapsed": false
   },
   "outputs": [],
   "source": [
    "trashdf['location'] = zip(trashdf.Latitude, trashdf.Longitude)"
   ]
  },
  {
   "cell_type": "markdown",
   "metadata": {},
   "source": [
    "# Calculating closest big belly to each rat event using relative latitude and longitude \n",
    "### Create function to compute the square of the distance from two tuples, converting degrees latitude and longitude to feet for the city of Boston"
   ]
  },
  {
   "cell_type": "code",
   "execution_count": 9,
   "metadata": {
    "collapsed": false
   },
   "outputs": [],
   "source": [
    "def lldist((lat1, long1), (lat2, long2)):\n",
    "    rise = lat2 - lat1\n",
    "    run =  long2 - long1\n",
    "\n",
    "    rise = rise*364412.83\n",
    "    run = run*271819.44\n",
    "\n",
    "    return math.sqrt(rise**2 + run**2)        "
   ]
  },
  {
   "cell_type": "code",
   "execution_count": 10,
   "metadata": {
    "collapsed": true
   },
   "outputs": [],
   "source": [
    "from scipy.spatial import distance\n",
    "def findMinDist(lat_long_vector1, lat_long_vector2):\n",
    "    return distance.cdist(lat_long_vector1, lat_long_vector2, lldist)"
   ]
  },
  {
   "cell_type": "markdown",
   "metadata": {},
   "source": [
    "### Create a dataframe of unique trash locations"
   ]
  },
  {
   "cell_type": "code",
   "execution_count": 11,
   "metadata": {
    "collapsed": false
   },
   "outputs": [],
   "source": [
    "unique_trash_locations = trashdf.groupby('description').head(1).drop(['trash_time', 'status', 'Latitude', 'Longitude'], axis=1)"
   ]
  },
  {
   "cell_type": "markdown",
   "metadata": {},
   "source": [
    "### Create a matrix of distances between each rat event and Big Belly location"
   ]
  },
  {
   "cell_type": "code",
   "execution_count": 12,
   "metadata": {
    "collapsed": false
   },
   "outputs": [],
   "source": [
    "distMatrix = findMinDist(srvdf.location.tolist(), unique_trash_locations.location.tolist())"
   ]
  },
  {
   "cell_type": "markdown",
   "metadata": {},
   "source": [
    "### Create a matrix of the horizontal key to the shortest values in the matrix  \n",
    "#### ie. figure out which Big Belly each 311 rat event is closest to"
   ]
  },
  {
   "cell_type": "code",
   "execution_count": 13,
   "metadata": {
    "collapsed": false
   },
   "outputs": [],
   "source": [
    "closestTrash = np.argmin(distMatrix, axis=1)"
   ]
  },
  {
   "cell_type": "markdown",
   "metadata": {},
   "source": [
    "# Create new columns in the distance matrix that will show the location description of the closest Big Belly and it's status at the time of each 311 rat event.\n",
    "### Rat events that occur more than 350 ft from the closest Big Belly will be given the status and location description \"NA\""
   ]
  },
  {
   "cell_type": "code",
   "execution_count": 14,
   "metadata": {
    "collapsed": false
   },
   "outputs": [
    {
     "name": "stderr",
     "output_type": "stream",
     "text": [
      "C:\\Users\\jason\\Anaconda2\\lib\\site-packages\\ipykernel\\__main__.py:8: SettingWithCopyWarning: \n",
      "A value is trying to be set on a copy of a slice from a DataFrame\n",
      "\n",
      "See the caveats in the documentation: http://pandas.pydata.org/pandas-docs/stable/indexing.html#indexing-view-versus-copy\n",
      "C:\\Users\\jason\\Anaconda2\\lib\\site-packages\\ipykernel\\__main__.py:9: SettingWithCopyWarning: \n",
      "A value is trying to be set on a copy of a slice from a DataFrame\n",
      "\n",
      "See the caveats in the documentation: http://pandas.pydata.org/pandas-docs/stable/indexing.html#indexing-view-versus-copy\n"
     ]
    }
   ],
   "source": [
    "srvdf['status'] = 'NA'\n",
    "srvdf['BigBelly'] = 'NA'\n",
    "for x in range(0,len(srvdf)):\n",
    "    if distMatrix[x,closestTrash[x]]<350:\n",
    "        trash_to_use = closestTrash[x]\n",
    "        desc =  unique_trash_locations.iloc[trash_to_use,:].description\n",
    "        trashHistory = trashdf[trashdf.description == desc]\n",
    "        srvdf.status[x] = trashHistory[trashHistory.trash_time <= srvdf.iloc[x].OPEN_DT].sort_values('trash_time').tail(1).status.values\n",
    "        srvdf.BigBelly[x] = trashHistory[trashHistory.trash_time <= srvdf.iloc[x].OPEN_DT].sort_values('trash_time').tail(1).description.values"
   ]
  },
  {
   "cell_type": "markdown",
   "metadata": {},
   "source": [
    "### Export the dataframe as a csv file"
   ]
  },
  {
   "cell_type": "code",
   "execution_count": 17,
   "metadata": {
    "collapsed": false
   },
   "outputs": [],
   "source": [
    "#srvdf.to_csv('rat.csv')"
   ]
  }
 ],
 "metadata": {
  "kernelspec": {
   "display_name": "Python 2",
   "language": "python",
   "name": "python2"
  },
  "language_info": {
   "codemirror_mode": {
    "name": "ipython",
    "version": 2
   },
   "file_extension": ".py",
   "mimetype": "text/x-python",
   "name": "python",
   "nbconvert_exporter": "python",
   "pygments_lexer": "ipython2",
   "version": "2.7.11"
  }
 },
 "nbformat": 4,
 "nbformat_minor": 0
}
